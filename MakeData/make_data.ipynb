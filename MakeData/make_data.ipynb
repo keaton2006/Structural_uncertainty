{
 "cells": [
  {
   "cell_type": "markdown",
   "metadata": {},
   "source": [
    "##### Uncertainty in Physics-Informed Inverse Problems | 2025\n",
    "##### Yoh-ichi Mototake, Makoto Sasaki"
   ]
  },
  {
   "cell_type": "code",
   "execution_count": null,
   "metadata": {},
   "outputs": [],
   "source": [
    "# Uncertainty in Physics-Informed Inverse Problems\n",
    "# Anonymous, Anonymous 2025\n",
    "\n",
    "import numpy as np\n",
    "import pandas as pd\n",
    "import pylab as plt\n",
    "\n",
    "import sklearn.gaussian_process as gp\n",
    "from sklearn.gaussian_process import kernels as sk_kern\n",
    "import pylab as plt\n",
    "from scipy import interpolate\n",
    "#import GPy\n",
    "from sklearn.model_selection import cross_validate\n",
    "import matplotlib.animation as animation"
   ]
  },
  {
   "cell_type": "code",
   "execution_count": null,
   "metadata": {},
   "outputs": [],
   "source": [
    "data_origin = np.loadtxt(\"./run_GZ_26/x-kx.dat\")"
   ]
  },
  {
   "cell_type": "code",
   "execution_count": null,
   "metadata": {},
   "outputs": [
    {
     "data": {
      "text/plain": [
       "(48401101, 4)"
      ]
     },
     "execution_count": 3,
     "metadata": {},
     "output_type": "execute_result"
    }
   ],
   "source": [
    "# t,x,p,dIdt,dIdx,dIdp\n",
    "data_origin.shape"
   ]
  },
  {
   "cell_type": "code",
   "execution_count": null,
   "metadata": {},
   "outputs": [],
   "source": [
    "# t,x,p,dIdt,dIdx,dIdp\n",
    "\n",
    "# 401(time) × 301(x) × 401(k)\n",
    "#t, x, kx, I \n",
    "# exept 80\n",
    "#data_origin = data_origin.reshape([401,401,301,4])\n",
    "# 80\n",
    "data_origin = data_origin.reshape([401,401,301,4])\n",
    "data = data_origin\n",
    "data = np.array(data_origin[:,::1,::1])\n",
    "#data = data.reshape([401,41,31,4])\n",
    "# exept 80\n",
    "dataHNN = np.zeros([401,401,301,7])\n",
    "# 80\n",
    "dataHNN = np.zeros([401,401,301,7])\n",
    "\n",
    "# t, x, p\n",
    "dataHNN[:-1,:-1,:-1,:3] = data[1:,1:,1:,:3]\n",
    "# dIdt\n",
    "dataHNN[:-2,:-1,:-1,3] = (data[2:,1:,1:,3] - data[:-2,1:,1:,3])/(data[2:,1:,1:,0] - data[:-2,1:,1:,0])\n",
    "#dataHNN[-1,:,:,3] = (data[-1,:,:,3] - data[-2,:,:,3])/(data[-1,:,:,0] - data[-2,:,:,0])\n",
    "# dIdx\n",
    "dataHNN[:-1,:-1,:-2,4] = (data[1:,1:,2:,3] - data[1:,1:,:-2,3])/(data[1:,1:,2:,1] - data[1:,1:,:-2,1])\n",
    "#dataHNN[:,:,-1,4] = (data[:,:,-1,3] - data[:,:,-2,3])/(data[:,:,-1,1] - data[:,:,-2,1])\n",
    "# dIdp\n",
    "dataHNN[:-1,:-2,:-1,5] = (data[1:,2:,1:,3] - data[1:,:-2,1:,3])/(data[1:,2:,1:,2] - data[1:,:-2,1:,2])\n",
    "#dataHNN[:,-1,:,5] = (data[:,-1,:,3] - data[:,-2,:,3])/(data[:,-1,:,2] - data[:,-2,:,2])\n",
    "# I\n",
    "dataHNN[:-1,:-1,:-1,6] = data[1:,1:,1:,3]\n",
    "\n",
    "np.save(\"../TrainNN/traindata/TrainHNN_GZ_26_origin_1.npy\",dataHNN)"
   ]
  },
  {
   "cell_type": "code",
   "execution_count": null,
   "metadata": {},
   "outputs": [],
   "source": []
  }
 ],
 "metadata": {
  "kernelspec": {
   "display_name": "Python 3 (ipykernel)",
   "language": "python",
   "name": "python3"
  },
  "language_info": {
   "codemirror_mode": {
    "name": "ipython",
    "version": 3
   },
   "file_extension": ".py",
   "mimetype": "text/x-python",
   "name": "python",
   "nbconvert_exporter": "python",
   "pygments_lexer": "ipython3",
   "version": "3.9.13"
  }
 },
 "nbformat": 4,
 "nbformat_minor": 4
}
